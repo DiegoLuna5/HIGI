{
  "nbformat": 4,
  "nbformat_minor": 0,
  "metadata": {
    "colab": {
      "provenance": [],
      "authorship_tag": "ABX9TyPpL/nNzuzZcAp9zWKdfSLn",
      "include_colab_link": true
    },
    "kernelspec": {
      "name": "python3",
      "display_name": "Python 3"
    },
    "language_info": {
      "name": "python"
    }
  },
  "cells": [
    {
      "cell_type": "markdown",
      "metadata": {
        "id": "view-in-github",
        "colab_type": "text"
      },
      "source": [
        "<a href=\"https://colab.research.google.com/github/DiegoLuna5/HIGI/blob/main/DiegoLuna_Elipse.ipynb\" target=\"_parent\"><img src=\"https://colab.research.google.com/assets/colab-badge.svg\" alt=\"Open In Colab\"/></a>"
      ]
    },
    {
      "cell_type": "code",
      "execution_count": 1,
      "metadata": {
        "id": "WO76V9PW8Axn"
      },
      "outputs": [],
      "source": [
        "import os\n",
        "import math\n",
        "import numpy as np\n",
        "import matplotlib.pyplot as plt"
      ]
    },
    {
      "cell_type": "code",
      "source": [
        "import os\n",
        "import math\n",
        "import numpy as np\n",
        "import matplotlib.pyplot as plt"
      ],
      "metadata": {
        "id": "y3hETEFM8G4Q"
      },
      "execution_count": 2,
      "outputs": []
    },
    {
      "cell_type": "markdown",
      "source": [
        "3.141592653589793"
      ],
      "metadata": {
        "id": "sooddOFE8J_K"
      }
    },
    {
      "cell_type": "code",
      "source": [
        "def eulerx(v0x=(.02231875)*365,t0=0,x0=.0508011,dt=0.0001,nsteps=100):\n",
        "    rp=(((0.0508011)**2)+((0.4011642)**2)+((-0.2195576)**2))**(1/2)\n",
        "    x=[x0]\n",
        "    t=[t0]\n",
        "    vx=[v0x]\n",
        "    for i in range(1,nsteps):\n",
        "        xi=x0+v0x*dt\n",
        "        vxi=v0x-((4*x0*dt*(math.pi)**2)/rp**3)\n",
        "        x.append(xi)\n",
        "        t.append(t0+dt*i)\n",
        "        vx.append(vxi)\n",
        "        x0=xi\n",
        "        v0x=vxi\n",
        "    return x,vx,"
      ],
      "metadata": {
        "id": "a0Zv7Pk48Nlb"
      },
      "execution_count": 3,
      "outputs": []
    },
    {
      "cell_type": "code",
      "source": [
        "def eulery(vy0=(.00485553)*365,t0=0,y0=-0.4011642,dt=0.0001,nsteps=100):\n",
        "    rp=(((0.0508011)**2)+((0.4011642)**2)+((-0.2195576)**2))**(1/2)\n",
        "    y=[y0]\n",
        "    t=[t0]\n",
        "    vy=[vy0]\n",
        "    for i in range(1,nsteps):\n",
        "        yi=y0+vy0*dt\n",
        "        vyi=vy0-((4*y0*dt*(math.pi)**2)/rp**3)\n",
        "        y.append(yi)\n",
        "        t.append(t0+dt*i)\n",
        "        vy.append(vyi)\n",
        "        y0=yi\n",
        "        vy0=vyi\n",
        "    return y,vy,"
      ],
      "metadata": {
        "id": "C88kYr778R_l"
      },
      "execution_count": 4,
      "outputs": []
    },
    {
      "cell_type": "code",
      "source": [
        "x,vx=eulerx(0,1,2,nsteps=10000)\n",
        "vy,y=eulery(0,1,2,nsteps=10000)\n",
        "plt.plot(x,y)"
      ],
      "metadata": {
        "colab": {
          "base_uri": "https://localhost:8080/",
          "height": 282
        },
        "id": "1rS4Pnj18SUv",
        "outputId": "3a4a68ba-1e13-4294-bd5a-20930b002daa"
      },
      "execution_count": 5,
      "outputs": [
        {
          "output_type": "execute_result",
          "data": {
            "text/plain": [
              "[<matplotlib.lines.Line2D at 0x7f1674a447d0>]"
            ]
          },
          "metadata": {},
          "execution_count": 5
        },
        {
          "output_type": "display_data",
          "data": {
            "text/plain": [
              "<Figure size 432x288 with 1 Axes>"
            ],
            "image/png": "[encoded data removed]"
          },
          "metadata": {
            "needs_background": "light"
          }
        }
      ]
    },
    {
      "cell_type": "markdown",
      "source": [],
      "metadata": {
        "id": "IyIOp4T18asU"
      }
    }
  ]
}